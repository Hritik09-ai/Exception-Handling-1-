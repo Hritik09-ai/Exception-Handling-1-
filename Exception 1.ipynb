{
 "cells": [
  {
   "cell_type": "code",
   "execution_count": 1,
   "id": "c71e3a56-279f-491c-9724-caec8f745df4",
   "metadata": {},
   "outputs": [],
   "source": [
    "# QUESTION.1 What is an Exception in python? write the difference between Exceptions and syntax errors.\n",
    "# ANSWER In Python, an exception is a runtime error that occcurs when a piece of code encounters an unexpected situation or\n",
    "# condition. When an exception occure, it interrupts the normal flow of the program and can be caught and handled using \n",
    "# exception handling machenisms.\n",
    "# In summary, the main differences between exception and syntax error are :\n",
    "# 1.Exception are runtime error that occur during program execution, while syntax error are detected by the interpreter before\n",
    "# execution. \n",
    "# 2.Exception can be caught and hadled using try-except blocks, allowing the program to continue running with graceful error \n",
    "# handling. Syntax error need to be fixed before the program can be executed.\n",
    "# 3. Exception are caused by unexpected conditions or situations, while syntax error are caused by improper code structure or\n",
    "# syntax."
   ]
  },
  {
   "cell_type": "code",
   "execution_count": null,
   "id": "73fec813-ec3b-4a1e-9eb5-5a75b925a2d6",
   "metadata": {},
   "outputs": [],
   "source": []
  },
  {
   "cell_type": "code",
   "execution_count": 8,
   "id": "d3858cbd-e37a-498d-b53f-326f12d741c0",
   "metadata": {},
   "outputs": [],
   "source": [
    "# QUESTION.2 What happnes when an exceptioon is  not handled? Explain with an example.\n",
    "# ANSWER In this scenario, the normal flow of the program is disrupted, and the program typically terminates abruptly. The \n",
    "# error message associated with the exception is usually displayed, which can help developers diagnose the problem.\n",
    "# For Example:\n",
    "import logging"
   ]
  },
  {
   "cell_type": "code",
   "execution_count": 10,
   "id": "7adb8fe9-7739-4251-9942-57f882aabac3",
   "metadata": {},
   "outputs": [
    {
     "name": "stdin",
     "output_type": "stream",
     "text": [
      "enter a number: 50\n"
     ]
    },
    {
     "name": "stdout",
     "output_type": "stream",
     "text": [
      "result: 0.2\n"
     ]
    }
   ],
   "source": [
    "logging.basicConfig(filename = 'error_log.txt',level = logging.ERROR, format = '%(asctime)s %(levelname)s (messgae)s')\n",
    "try :\n",
    "    num = int(input('enter a number:'))\n",
    "    result = 10 / num\n",
    "    print('result:',result)\n",
    "except Exception as e :\n",
    "    logging.error ('An unexpected occured: %s' , e )\n",
    "    print('An unexpected error is occured') \n",
    "                   \n"
   ]
  },
  {
   "cell_type": "code",
   "execution_count": null,
   "id": "ef2c77bb-8d61-43d6-9b5a-749ca72238e7",
   "metadata": {},
   "outputs": [],
   "source": []
  },
  {
   "cell_type": "code",
   "execution_count": 12,
   "id": "f5851def-2b48-42c5-aa7d-c0ed09f227b3",
   "metadata": {},
   "outputs": [
    {
     "name": "stderr",
     "output_type": "stream",
     "text": [
      "ERROR:root:division by zero occured\n"
     ]
    }
   ],
   "source": [
    "# QUESTION.3 Which Python statements are used to catch and handle exception? Explain with an example.\n",
    "# ANSWER In Python, you can use try-except blocks to catch and handle exceptions. The 'try' block contains the code that might\n",
    "# raise an exception, while the 'except' block contains the code to be executed if an exception occures. The idea is to  \n",
    "# gracefull handle errors instead of letting the program crash.\n",
    "# For Example :\n",
    "logging.basicConfig(filename = 'error2_log.txt', level=logging.ERROR)\n",
    "try:\n",
    "    numerator = 10\n",
    "    denominator = 0\n",
    "    result = numerator / denominator\n",
    "except Exception as e :\n",
    "    logging.error('division by zero occured')"
   ]
  },
  {
   "cell_type": "code",
   "execution_count": null,
   "id": "83b04d41-7d74-4774-852a-e2e54903a3dd",
   "metadata": {},
   "outputs": [],
   "source": []
  },
  {
   "cell_type": "code",
   "execution_count": 4,
   "id": "2e78a383-cc40-4190-be3b-3da81e829424",
   "metadata": {},
   "outputs": [
    {
     "name": "stdout",
     "output_type": "stream",
     "text": [
      "cannot divide by zero\n",
      "This will always be executed, no matter what\n"
     ]
    }
   ],
   "source": [
    "# QUESTION.4 Explain with an example :\n",
    "\n",
    "#   a. try and else \n",
    "#   b. finally\n",
    "#   c. raise \n",
    "# ANSWER The 'try' block contains code that may raise an exception. If the specified exception occurs, the code inside the \n",
    "# corresponding 'except' block is executed.If no exception occures in the 'try' block, the code inside the 'else' block is\n",
    "# executed. The 'finally' block contains code that wil alays run, regardless of whether an exception occured or not.\n",
    "# The 'raise' statement is used to raise custom exception. \n",
    "# For Example :\n",
    "try :\n",
    "    result = 10 / 0\n",
    "except ZeroDivisionError :\n",
    "    print('cannot divide by zero')\n",
    "else :\n",
    "    print('division successful')\n",
    "finally :\n",
    "    print('This will always be executed, no matter what')\n"
   ]
  },
  {
   "cell_type": "code",
   "execution_count": 3,
   "id": "c509b88a-59a2-4ce1-b715-ed83a5f0e81b",
   "metadata": {},
   "outputs": [
    {
     "name": "stdout",
     "output_type": "stream",
     "text": [
      "value must be non-negative\n"
     ]
    }
   ],
   "source": [
    "# raise custom exception using raise statement\n",
    "def custom_function(value):\n",
    "    if value < 0:\n",
    "        raise ValueError('value must be non-negative')\n",
    "       \n",
    "    return value\n",
    "\n",
    "try :\n",
    "    custom_function(-5)\n",
    "except ValueError as e :\n",
    "    print(e)\n",
    "    "
   ]
  },
  {
   "cell_type": "code",
   "execution_count": null,
   "id": "9e0917ce-00f6-4e48-951f-30979b8ae9d6",
   "metadata": {},
   "outputs": [],
   "source": []
  },
  {
   "cell_type": "code",
   "execution_count": 2,
   "id": "b94074f3-dd27-4462-bbc0-8bc971f7c023",
   "metadata": {},
   "outputs": [
    {
     "name": "stdin",
     "output_type": "stream",
     "text": [
      "enter your age 35\n"
     ]
    },
    {
     "name": "stdout",
     "output_type": "stream",
     "text": [
      "age is valid\n"
     ]
    }
   ],
   "source": [
    "# QUESTION.5 What are Custom Exception in python? Why do we need Custom Exception? Explain with an example.\n",
    "# ANSWER IN Python, custom exception are user-defined exception that extend the built-in 'Exception' class or its subclasses. \n",
    "# They allow you to creat specidic error types for your application's needs. Custom exception are helpful because thay provide\n",
    "# better clarity and contex when handling error in your code,making debugging and troubleshooting easier.\n",
    "# For Example :\n",
    "\n",
    "class Validateage(Exception):\n",
    "    def __init__(self,message):\n",
    "        self.message = message \n",
    "def validateage(age):\n",
    "    if age < 0 :\n",
    "        raise Validateage('age is not negative')\n",
    "       \n",
    "    elif age > 200 :\n",
    "        raise Validateage('age is too high')\n",
    "       \n",
    "    else :\n",
    "        print('age is valid')\n",
    "try :\n",
    "    age = int(input('enter your age'))\n",
    "    validateage(age)\n",
    "except Validateage as e:\n",
    "    print(e)\n",
    "        \n",
    "    "
   ]
  },
  {
   "cell_type": "code",
   "execution_count": null,
   "id": "e51d9e53-455a-4cd4-8dcf-2b2abbfaa341",
   "metadata": {},
   "outputs": [],
   "source": []
  },
  {
   "cell_type": "code",
   "execution_count": 7,
   "id": "6ff54416-44a4-4517-a57b-40dc9b18d4ba",
   "metadata": {},
   "outputs": [
    {
     "name": "stderr",
     "output_type": "stream",
     "text": [
      "ERROR:root:this is a custom exception\n"
     ]
    }
   ],
   "source": [
    "# QUESTION.6 Create a custom exception  class. use this to handle an exception. \n",
    "# ANSWER \n",
    "import logging\n",
    "\n",
    "class CustomException(Exception):\n",
    "    \n",
    "    def __init__(self, message):\n",
    "        super().__init__(message)\n",
    "try :\n",
    "    raise CustomException('this is a custom exception')\n",
    "except CustomException as e:\n",
    "    logging.error(str(e))\n"
   ]
  },
  {
   "cell_type": "code",
   "execution_count": null,
   "id": "813e5f97-cda6-4909-9d29-8546b56c0de8",
   "metadata": {},
   "outputs": [],
   "source": []
  }
 ],
 "metadata": {
  "kernelspec": {
   "display_name": "Python 3 (ipykernel)",
   "language": "python",
   "name": "python3"
  },
  "language_info": {
   "codemirror_mode": {
    "name": "ipython",
    "version": 3
   },
   "file_extension": ".py",
   "mimetype": "text/x-python",
   "name": "python",
   "nbconvert_exporter": "python",
   "pygments_lexer": "ipython3",
   "version": "3.10.8"
  }
 },
 "nbformat": 4,
 "nbformat_minor": 5
}
